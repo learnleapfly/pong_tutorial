{
 "cells": [
  {
   "cell_type": "markdown",
   "metadata": {},
   "source": [
    "# Pong Tutorial"
   ]
  },
  {
   "cell_type": "markdown",
   "metadata": {},
   "source": [
    "We went through Pong tutorial on the Kivy website. Here we'll document any issues we had or modifications we made.\n",
    "\n",
    "https://kivy.org/docs/tutorials/pong.html"
   ]
  },
  {
   "cell_type": "markdown",
   "metadata": {},
   "source": [
    "&nbsp; &nbsp; 1. Going through the tutorial to the point of showing a black window was straightforward. "
   ]
  },
  {
   "cell_type": "markdown",
   "metadata": {},
   "source": [
    "&nbsp; &nbsp; 2. Created a `pong.kv` Kivy file to define the layout of the game. The .kv file name should match the app's name: e.g. `PongApp` will use `pong.kv`\n",
    "\n",
    "The `.kv` file is a KVLang file. It will make the layout a lot easier to work with.\n",
    "It creates Kivy properties which have a lot of \"magical\" features (e.g. automatic event handlers) that make the Kivy app work (e.g. auto resizing)\n",
    "\n",
    "Things to learn:\n",
    "-KVLang\n",
    "-Properties & Events\n",
    "-Layouts"
   ]
  },
  {
   "cell_type": "markdown",
   "metadata": {},
   "source": [
    "&nbsp; &nbsp; 3. Creating the `PongBall` class\n",
    "- Add it to `main.py`\n",
    "- Use `NumericProperty` and `ReferenceListProperty` (Remember to import them at the top! lines 2-3 in the example)\n",
    "- `PongBall` has its own move method \n",
    "- in `PongBall` class, remember to add the `PongBall` child widget in the `<PongGame>` widget. This is what is actually adding it and displaying it on the game.\n",
    "\n",
    "It should look like this:"
   ]
  },
  {
   "cell_type": "markdown",
   "metadata": {
    "collapsed": true
   },
   "source": [
    "![Ball not moving](assets/screenshots/game-with-ball-not-moving.png)"
   ]
  },
  {
   "cell_type": "markdown",
   "metadata": {},
   "source": [
    "&nbsp; &nbsp; 4. Create Clock interval"
   ]
  },
  {
   "cell_type": "markdown",
   "metadata": {},
   "source": [
    "&nbsp; &nbsp; 5. Create ball variable in PongGame and add reference to it in the `<PongGame> ` widget in the `.kv` file\n",
    "- reference to ball is app name + variable name (e.g. pong_ball)\n",
    "\n",
    "Now's a good time to test it but remember to import `ObjectProperty`, `Clock`"
   ]
  },
  {
   "cell_type": "markdown",
   "metadata": {},
   "source": [
    "&nbsp; &nbsp; 6. Adding player interaction\n",
    "- We'll be using NumericProperty to control paddle widget.\n",
    "- Adding bounce_ball method.\n",
    "- The collision_widget implementation could use more detail (explaining why velocity is reversed to bounce) -- also the first, out-of-context snippet of code for bounce_ball() in the PongPaddle class is completely different from the version used in main.py right underneath."
   ]
  },
  {
   "cell_type": "markdown",
   "metadata": {},
   "source": [
    "&nbsp; &nbsp; 7. Adding two players\n",
    "-Adding PongPaddle to kv file.\n",
    "-Adding players to PongGame\n",
    "-Adding paddle to PongGame\n",
    "-First run attempt: works...until ball hits paddle.  Then crash.  Need to add another argument to serve_ball() in main.py.  Doesn't crash now, but new bug: ball jumps directly to middle of screen when it hits the left paddle.\n",
    "-refactored update() method into several smaller methods"
   ]
  },
  {
   "cell_type": "code",
   "execution_count": null,
   "metadata": {
    "collapsed": true
   },
   "outputs": [],
   "source": []
  },
  {
   "cell_type": "code",
   "execution_count": null,
   "metadata": {
    "collapsed": true
   },
   "outputs": [],
   "source": []
  }
 ],
 "metadata": {
  "kernelspec": {
   "display_name": "Python 2",
   "language": "python",
   "name": "python2"
  },
  "language_info": {
   "codemirror_mode": {
    "name": "ipython",
    "version": 2
   },
   "file_extension": ".py",
   "mimetype": "text/x-python",
   "name": "python",
   "nbconvert_exporter": "python",
   "pygments_lexer": "ipython2",
   "version": "2.7.11"
  }
 },
 "nbformat": 4,
 "nbformat_minor": 0
}
